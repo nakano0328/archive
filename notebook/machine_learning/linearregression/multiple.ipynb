{
 "cells": [
  {
   "cell_type": "markdown",
   "metadata": {},
   "source": [
    "# 重回帰分析\n",
    "\n",
    "このページでは、重回帰分析を行っています。\n",
    "\n",
    "データセットの作成から分析を行っています。今回扱うデータセットは機械学習ライブラリのscikit-learnに含まれるカルフォルニアの住宅のデータセットです。"
   ]
  },
  {
   "cell_type": "markdown",
   "metadata": {},
   "source": [
    "## 注意事項\n",
    "\n",
    "- 「Googleへのログインが必要」と出たら、自分のGoogleアカウントでログインします。\n",
    "\n",
    "- 「警告: このノートブックは Google が作成したものではありません。」と出たら「このまま実行」をクリックします。\n",
    "\n",
    "- 学習には数分かかる場合があります。"
   ]
  },
  {
   "cell_type": "code",
   "execution_count": 3,
   "metadata": {},
   "outputs": [],
   "source": [
    "#@title ライブラリのインポート\n",
    "\n",
    "import pandas as pd\n",
    "from sklearn.datasets import fetch_california_housing\n",
    "from sklearn.linear_model import LinearRegression\n",
    "from sklearn.metrics import mean_squared_error, r2_score"
   ]
  },
  {
   "cell_type": "code",
   "execution_count": 4,
   "metadata": {},
   "outputs": [
    {
     "name": "stdout",
     "output_type": "stream",
     "text": [
      "平均二乗誤差（MSE）: 0.69\n",
      "決定係数（R^2）: 0.48\n",
      "    Feature  Coefficient\n",
      "0    MedInc     0.434683\n",
      "1  AveRooms    -0.038326\n",
      "2  AveOccup    -0.004174\n"
     ]
    }
   ],
   "source": [
    "#@title 重回帰分析の実行\n",
    "\n",
    "# データの読み込み\n",
    "california = fetch_california_housing()\n",
    "\n",
    "# データをDataFrameに変換\n",
    "data = pd.DataFrame(california.data, columns=california.feature_names)\n",
    "data[\"HousePrice\"] = california.target\n",
    "\n",
    "# 説明変数を選択（MedInc, AveRooms, AveOccup）\n",
    "X = data[[\"MedInc\", \"AveRooms\", \"AveOccup\"]]\n",
    "y = data[\"HousePrice\"]\n",
    "\n",
    "# 重回帰モデルの作成と学習\n",
    "model = LinearRegression()\n",
    "model.fit(X, y)\n",
    "\n",
    "# 予測\n",
    "y_pred = model.predict(X)\n",
    "\n",
    "# モデル評価\n",
    "mse = mean_squared_error(y, y_pred)\n",
    "r2 = r2_score(y, y_pred)\n",
    "\n",
    "print(f\"平均二乗誤差（MSE）: {mse:.2f}\")\n",
    "print(f\"決定係数（R^2）: {r2:.2f}\")\n",
    "\n",
    "# 回帰係数の表示\n",
    "coefficients = pd.DataFrame({\"Feature\": [\"MedInc\", \"AveRooms\", \"AveOccup\"], \n",
    "                             \"Coefficient\": model.coef_})\n",
    "print(coefficients)\n"
   ]
  }
 ],
 "metadata": {
  "kernelspec": {
   "display_name": "Python 3",
   "language": "python",
   "name": "python3"
  },
  "language_info": {
   "codemirror_mode": {
    "name": "ipython",
    "version": 3
   },
   "file_extension": ".py",
   "mimetype": "text/x-python",
   "name": "python",
   "nbconvert_exporter": "python",
   "pygments_lexer": "ipython3",
   "version": "3.12.7"
  }
 },
 "nbformat": 4,
 "nbformat_minor": 2
}
